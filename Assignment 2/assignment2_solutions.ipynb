{
 "cells": [
  {
   "cell_type": "markdown",
   "id": "afdabe11",
   "metadata": {},
   "source": [
    "# Basic Statistics-2 "
   ]
  },
  {
   "cell_type": "markdown",
   "id": "e5e0264b",
   "metadata": {},
   "source": [
    "### Question 1"
   ]
  },
  {
   "cell_type": "markdown",
   "id": "ec5c26d2",
   "metadata": {},
   "source": [
    " Look at the data given below. Plot the data, find the outliers and find out  μ,σ,σ^2\n",
    "\n",
    "Name of company\tMeasure X\n",
    "Allied Signal\t24.23%\n",
    "Bankers Trust\t25.53%\n",
    "General Mills\t25.41%\n",
    "ITT Industries\t24.14%\n",
    "J.P.Morgan & Co.\t29.62%\n",
    "Lehman Brothers\t28.25%\n",
    "Marriott\t25.81%\n",
    "MCI\t24.39%\n",
    "Merrill Lynch\t40.26%\n",
    "Microsoft\t32.95%\n",
    "Morgan Stanley\t91.36%\n",
    "Sun Microsystems\t25.99%\n",
    "Travelers\t39.42%\n",
    "US Airways\t26.71%\n",
    "Warner-Lambert\t35.00%\n",
    "\n",
    "#### Saved the data in csv file\n"
   ]
  },
  {
   "cell_type": "code",
   "execution_count": 1,
   "id": "7dcb1531",
   "metadata": {},
   "outputs": [],
   "source": [
    "#required libraries\n",
    "import numpy as np\n",
    "import pandas as pd\n",
    "import matplotlib.pyplot as plt\n",
    "import seaborn as sns\n",
    "from scipy import stats\n",
    "import warnings\n",
    "warnings.filterwarnings('ignore')"
   ]
  },
  {
   "cell_type": "code",
   "execution_count": 2,
   "id": "af1c2b0a",
   "metadata": {},
   "outputs": [],
   "source": [
    "df=pd.read_csv('company.csv')"
   ]
  },
  {
   "cell_type": "code",
   "execution_count": 3,
   "id": "31e73b6d",
   "metadata": {},
   "outputs": [
    {
     "data": {
      "text/html": [
       "<div>\n",
       "<style scoped>\n",
       "    .dataframe tbody tr th:only-of-type {\n",
       "        vertical-align: middle;\n",
       "    }\n",
       "\n",
       "    .dataframe tbody tr th {\n",
       "        vertical-align: top;\n",
       "    }\n",
       "\n",
       "    .dataframe thead th {\n",
       "        text-align: right;\n",
       "    }\n",
       "</style>\n",
       "<table border=\"1\" class=\"dataframe\">\n",
       "  <thead>\n",
       "    <tr style=\"text-align: right;\">\n",
       "      <th></th>\n",
       "      <th>Name of company</th>\n",
       "      <th>Measure X</th>\n",
       "    </tr>\n",
       "  </thead>\n",
       "  <tbody>\n",
       "    <tr>\n",
       "      <th>0</th>\n",
       "      <td>Allied Signal</td>\n",
       "      <td>24.23%</td>\n",
       "    </tr>\n",
       "    <tr>\n",
       "      <th>1</th>\n",
       "      <td>Bankers Trust</td>\n",
       "      <td>25.53%</td>\n",
       "    </tr>\n",
       "    <tr>\n",
       "      <th>2</th>\n",
       "      <td>General Mills</td>\n",
       "      <td>25.41%</td>\n",
       "    </tr>\n",
       "    <tr>\n",
       "      <th>3</th>\n",
       "      <td>ITT Industries</td>\n",
       "      <td>24.14%</td>\n",
       "    </tr>\n",
       "    <tr>\n",
       "      <th>4</th>\n",
       "      <td>J.P.Morgan &amp; Co.</td>\n",
       "      <td>29.62%</td>\n",
       "    </tr>\n",
       "    <tr>\n",
       "      <th>5</th>\n",
       "      <td>Lehman Brothers</td>\n",
       "      <td>28.25%</td>\n",
       "    </tr>\n",
       "    <tr>\n",
       "      <th>6</th>\n",
       "      <td>Marriott</td>\n",
       "      <td>25.81%</td>\n",
       "    </tr>\n",
       "    <tr>\n",
       "      <th>7</th>\n",
       "      <td>MCI</td>\n",
       "      <td>24.39%</td>\n",
       "    </tr>\n",
       "    <tr>\n",
       "      <th>8</th>\n",
       "      <td>Merrill Lynch</td>\n",
       "      <td>40.26%</td>\n",
       "    </tr>\n",
       "    <tr>\n",
       "      <th>9</th>\n",
       "      <td>Microsoft</td>\n",
       "      <td>32.95%</td>\n",
       "    </tr>\n",
       "    <tr>\n",
       "      <th>10</th>\n",
       "      <td>Morgan Stanley</td>\n",
       "      <td>91.36%</td>\n",
       "    </tr>\n",
       "    <tr>\n",
       "      <th>11</th>\n",
       "      <td>Sun Microsystems</td>\n",
       "      <td>25.99%</td>\n",
       "    </tr>\n",
       "    <tr>\n",
       "      <th>12</th>\n",
       "      <td>Travelers</td>\n",
       "      <td>39.42%</td>\n",
       "    </tr>\n",
       "    <tr>\n",
       "      <th>13</th>\n",
       "      <td>US Airways</td>\n",
       "      <td>26.71%</td>\n",
       "    </tr>\n",
       "    <tr>\n",
       "      <th>14</th>\n",
       "      <td>Warner-Lambert</td>\n",
       "      <td>35.00%</td>\n",
       "    </tr>\n",
       "  </tbody>\n",
       "</table>\n",
       "</div>"
      ],
      "text/plain": [
       "     Name of company Measure X\n",
       "0      Allied Signal    24.23%\n",
       "1      Bankers Trust    25.53%\n",
       "2      General Mills    25.41%\n",
       "3     ITT Industries    24.14%\n",
       "4   J.P.Morgan & Co.    29.62%\n",
       "5    Lehman Brothers    28.25%\n",
       "6           Marriott    25.81%\n",
       "7                MCI    24.39%\n",
       "8      Merrill Lynch    40.26%\n",
       "9          Microsoft    32.95%\n",
       "10    Morgan Stanley    91.36%\n",
       "11  Sun Microsystems    25.99%\n",
       "12         Travelers    39.42%\n",
       "13        US Airways    26.71%\n",
       "14    Warner-Lambert    35.00%"
      ]
     },
     "execution_count": 3,
     "metadata": {},
     "output_type": "execute_result"
    }
   ],
   "source": [
    "df"
   ]
  },
  {
   "cell_type": "code",
   "execution_count": 4,
   "id": "e1f2352e",
   "metadata": {},
   "outputs": [
    {
     "data": {
      "text/plain": [
       "Index(['Name of company', 'Measure X'], dtype='object')"
      ]
     },
     "execution_count": 4,
     "metadata": {},
     "output_type": "execute_result"
    }
   ],
   "source": [
    "df.columns"
   ]
  },
  {
   "cell_type": "code",
   "execution_count": 5,
   "id": "491bbf83",
   "metadata": {},
   "outputs": [
    {
     "data": {
      "text/html": [
       "<div>\n",
       "<style scoped>\n",
       "    .dataframe tbody tr th:only-of-type {\n",
       "        vertical-align: middle;\n",
       "    }\n",
       "\n",
       "    .dataframe tbody tr th {\n",
       "        vertical-align: top;\n",
       "    }\n",
       "\n",
       "    .dataframe thead th {\n",
       "        text-align: right;\n",
       "    }\n",
       "</style>\n",
       "<table border=\"1\" class=\"dataframe\">\n",
       "  <thead>\n",
       "    <tr style=\"text-align: right;\">\n",
       "      <th></th>\n",
       "      <th>Name of company</th>\n",
       "      <th>Measure X</th>\n",
       "    </tr>\n",
       "  </thead>\n",
       "  <tbody>\n",
       "    <tr>\n",
       "      <th>0</th>\n",
       "      <td>Allied Signal</td>\n",
       "      <td>24.23%</td>\n",
       "    </tr>\n",
       "    <tr>\n",
       "      <th>1</th>\n",
       "      <td>Bankers Trust</td>\n",
       "      <td>25.53%</td>\n",
       "    </tr>\n",
       "  </tbody>\n",
       "</table>\n",
       "</div>"
      ],
      "text/plain": [
       "  Name of company Measure X\n",
       "0   Allied Signal    24.23%\n",
       "1   Bankers Trust    25.53%"
      ]
     },
     "execution_count": 5,
     "metadata": {},
     "output_type": "execute_result"
    }
   ],
   "source": [
    "df.head(2)"
   ]
  },
  {
   "cell_type": "code",
   "execution_count": 6,
   "id": "fafc29fe",
   "metadata": {},
   "outputs": [],
   "source": [
    "percent_col=pd.to_numeric(df['Measure X'].str.replace('%', ''), 'ignore')/100\n",
    "df['percent']=percent_col"
   ]
  },
  {
   "cell_type": "code",
   "execution_count": 7,
   "id": "34b4f4bc",
   "metadata": {},
   "outputs": [
    {
     "data": {
      "text/html": [
       "<div>\n",
       "<style scoped>\n",
       "    .dataframe tbody tr th:only-of-type {\n",
       "        vertical-align: middle;\n",
       "    }\n",
       "\n",
       "    .dataframe tbody tr th {\n",
       "        vertical-align: top;\n",
       "    }\n",
       "\n",
       "    .dataframe thead th {\n",
       "        text-align: right;\n",
       "    }\n",
       "</style>\n",
       "<table border=\"1\" class=\"dataframe\">\n",
       "  <thead>\n",
       "    <tr style=\"text-align: right;\">\n",
       "      <th></th>\n",
       "      <th>Name of company</th>\n",
       "      <th>Measure X</th>\n",
       "      <th>percent</th>\n",
       "    </tr>\n",
       "  </thead>\n",
       "  <tbody>\n",
       "    <tr>\n",
       "      <th>0</th>\n",
       "      <td>Allied Signal</td>\n",
       "      <td>24.23%</td>\n",
       "      <td>0.2423</td>\n",
       "    </tr>\n",
       "    <tr>\n",
       "      <th>1</th>\n",
       "      <td>Bankers Trust</td>\n",
       "      <td>25.53%</td>\n",
       "      <td>0.2553</td>\n",
       "    </tr>\n",
       "    <tr>\n",
       "      <th>2</th>\n",
       "      <td>General Mills</td>\n",
       "      <td>25.41%</td>\n",
       "      <td>0.2541</td>\n",
       "    </tr>\n",
       "    <tr>\n",
       "      <th>3</th>\n",
       "      <td>ITT Industries</td>\n",
       "      <td>24.14%</td>\n",
       "      <td>0.2414</td>\n",
       "    </tr>\n",
       "    <tr>\n",
       "      <th>4</th>\n",
       "      <td>J.P.Morgan &amp; Co.</td>\n",
       "      <td>29.62%</td>\n",
       "      <td>0.2962</td>\n",
       "    </tr>\n",
       "    <tr>\n",
       "      <th>5</th>\n",
       "      <td>Lehman Brothers</td>\n",
       "      <td>28.25%</td>\n",
       "      <td>0.2825</td>\n",
       "    </tr>\n",
       "    <tr>\n",
       "      <th>6</th>\n",
       "      <td>Marriott</td>\n",
       "      <td>25.81%</td>\n",
       "      <td>0.2581</td>\n",
       "    </tr>\n",
       "    <tr>\n",
       "      <th>7</th>\n",
       "      <td>MCI</td>\n",
       "      <td>24.39%</td>\n",
       "      <td>0.2439</td>\n",
       "    </tr>\n",
       "    <tr>\n",
       "      <th>8</th>\n",
       "      <td>Merrill Lynch</td>\n",
       "      <td>40.26%</td>\n",
       "      <td>0.4026</td>\n",
       "    </tr>\n",
       "    <tr>\n",
       "      <th>9</th>\n",
       "      <td>Microsoft</td>\n",
       "      <td>32.95%</td>\n",
       "      <td>0.3295</td>\n",
       "    </tr>\n",
       "    <tr>\n",
       "      <th>10</th>\n",
       "      <td>Morgan Stanley</td>\n",
       "      <td>91.36%</td>\n",
       "      <td>0.9136</td>\n",
       "    </tr>\n",
       "    <tr>\n",
       "      <th>11</th>\n",
       "      <td>Sun Microsystems</td>\n",
       "      <td>25.99%</td>\n",
       "      <td>0.2599</td>\n",
       "    </tr>\n",
       "    <tr>\n",
       "      <th>12</th>\n",
       "      <td>Travelers</td>\n",
       "      <td>39.42%</td>\n",
       "      <td>0.3942</td>\n",
       "    </tr>\n",
       "    <tr>\n",
       "      <th>13</th>\n",
       "      <td>US Airways</td>\n",
       "      <td>26.71%</td>\n",
       "      <td>0.2671</td>\n",
       "    </tr>\n",
       "    <tr>\n",
       "      <th>14</th>\n",
       "      <td>Warner-Lambert</td>\n",
       "      <td>35.00%</td>\n",
       "      <td>0.3500</td>\n",
       "    </tr>\n",
       "  </tbody>\n",
       "</table>\n",
       "</div>"
      ],
      "text/plain": [
       "     Name of company Measure X  percent\n",
       "0      Allied Signal    24.23%   0.2423\n",
       "1      Bankers Trust    25.53%   0.2553\n",
       "2      General Mills    25.41%   0.2541\n",
       "3     ITT Industries    24.14%   0.2414\n",
       "4   J.P.Morgan & Co.    29.62%   0.2962\n",
       "5    Lehman Brothers    28.25%   0.2825\n",
       "6           Marriott    25.81%   0.2581\n",
       "7                MCI    24.39%   0.2439\n",
       "8      Merrill Lynch    40.26%   0.4026\n",
       "9          Microsoft    32.95%   0.3295\n",
       "10    Morgan Stanley    91.36%   0.9136\n",
       "11  Sun Microsystems    25.99%   0.2599\n",
       "12         Travelers    39.42%   0.3942\n",
       "13        US Airways    26.71%   0.2671\n",
       "14    Warner-Lambert    35.00%   0.3500"
      ]
     },
     "execution_count": 7,
     "metadata": {},
     "output_type": "execute_result"
    }
   ],
   "source": [
    "df"
   ]
  },
  {
   "cell_type": "code",
   "execution_count": 8,
   "id": "bd1fcaf5",
   "metadata": {},
   "outputs": [
    {
     "data": {
      "text/html": [
       "<div>\n",
       "<style scoped>\n",
       "    .dataframe tbody tr th:only-of-type {\n",
       "        vertical-align: middle;\n",
       "    }\n",
       "\n",
       "    .dataframe tbody tr th {\n",
       "        vertical-align: top;\n",
       "    }\n",
       "\n",
       "    .dataframe thead th {\n",
       "        text-align: right;\n",
       "    }\n",
       "</style>\n",
       "<table border=\"1\" class=\"dataframe\">\n",
       "  <thead>\n",
       "    <tr style=\"text-align: right;\">\n",
       "      <th></th>\n",
       "      <th>percent</th>\n",
       "    </tr>\n",
       "  </thead>\n",
       "  <tbody>\n",
       "    <tr>\n",
       "      <th>count</th>\n",
       "      <td>15.000000</td>\n",
       "    </tr>\n",
       "    <tr>\n",
       "      <th>mean</th>\n",
       "      <td>0.332713</td>\n",
       "    </tr>\n",
       "    <tr>\n",
       "      <th>std</th>\n",
       "      <td>0.169454</td>\n",
       "    </tr>\n",
       "    <tr>\n",
       "      <th>min</th>\n",
       "      <td>0.241400</td>\n",
       "    </tr>\n",
       "    <tr>\n",
       "      <th>25%</th>\n",
       "      <td>0.254700</td>\n",
       "    </tr>\n",
       "    <tr>\n",
       "      <th>50%</th>\n",
       "      <td>0.267100</td>\n",
       "    </tr>\n",
       "    <tr>\n",
       "      <th>75%</th>\n",
       "      <td>0.339750</td>\n",
       "    </tr>\n",
       "    <tr>\n",
       "      <th>max</th>\n",
       "      <td>0.913600</td>\n",
       "    </tr>\n",
       "  </tbody>\n",
       "</table>\n",
       "</div>"
      ],
      "text/plain": [
       "         percent\n",
       "count  15.000000\n",
       "mean    0.332713\n",
       "std     0.169454\n",
       "min     0.241400\n",
       "25%     0.254700\n",
       "50%     0.267100\n",
       "75%     0.339750\n",
       "max     0.913600"
      ]
     },
     "execution_count": 8,
     "metadata": {},
     "output_type": "execute_result"
    }
   ],
   "source": [
    "df.describe()"
   ]
  },
  {
   "cell_type": "code",
   "execution_count": 9,
   "id": "8c49f594",
   "metadata": {},
   "outputs": [
    {
     "data": {
      "text/plain": [
       "percent    0.332713\n",
       "dtype: float64"
      ]
     },
     "execution_count": 9,
     "metadata": {},
     "output_type": "execute_result"
    }
   ],
   "source": [
    "#mean\n",
    "df.mean()"
   ]
  },
  {
   "cell_type": "code",
   "execution_count": 10,
   "id": "6065ff4e",
   "metadata": {},
   "outputs": [
    {
     "data": {
      "text/plain": [
       "percent    0.028715\n",
       "dtype: float64"
      ]
     },
     "execution_count": 10,
     "metadata": {},
     "output_type": "execute_result"
    }
   ],
   "source": [
    "#variance\n",
    "df.var()"
   ]
  },
  {
   "cell_type": "code",
   "execution_count": 11,
   "id": "42a8637f",
   "metadata": {},
   "outputs": [
    {
     "data": {
      "text/plain": [
       "percent    0.169454\n",
       "dtype: float64"
      ]
     },
     "execution_count": 11,
     "metadata": {},
     "output_type": "execute_result"
    }
   ],
   "source": [
    "#standard deviation\n",
    "df.std()"
   ]
  },
  {
   "cell_type": "code",
   "execution_count": 12,
   "id": "1c6b415b",
   "metadata": {},
   "outputs": [
    {
     "data": {
      "image/png": "[encoded data removed]",
      "text/plain": [
       "<Figure size 432x576 with 1 Axes>"
      ]
     },
     "metadata": {},
     "output_type": "display_data"
    }
   ],
   "source": [
    "#pie plot\n",
    "Name_of_company=df['Name of company']\n",
    "plt.figure(figsize=(6,8))\n",
    "plt.pie(percent_col, labels=Name_of_company,autopct='%1.1f%%', shadow=True, startangle=140)\n",
    "plt.show()"
   ]
  },
  {
   "cell_type": "code",
   "execution_count": 13,
   "id": "eea688f7",
   "metadata": {},
   "outputs": [
    {
     "data": {
      "image/png": "[encoded data removed]",
      "text/plain": [
       "<Figure size 720x216 with 1 Axes>"
      ]
     },
     "metadata": {
      "needs_background": "light"
     },
     "output_type": "display_data"
    }
   ],
   "source": [
    "#outliers\n",
    "plt.figure(figsize = (10,3));\n",
    "plt.boxplot(df.percent, vert= False)\n",
    "plt.show()"
   ]
  },
  {
   "cell_type": "code",
   "execution_count": 14,
   "id": "185aeb53",
   "metadata": {
    "scrolled": true
   },
   "outputs": [
    {
     "data": {
      "image/png": "[encoded data removed]",
      "text/plain": [
       "<Figure size 432x288 with 1 Axes>"
      ]
     },
     "metadata": {
      "needs_background": "light"
     },
     "output_type": "display_data"
    }
   ],
   "source": [
    "fig = plt.scatter(x=Name_of_company, y=percent_col)"
   ]
  },
  {
   "cell_type": "code",
   "execution_count": 15,
   "id": "aa77b48f",
   "metadata": {},
   "outputs": [],
   "source": [
    "# from graph we can say that 91.36% is the outlier"
   ]
  },
  {
   "cell_type": "code",
   "execution_count": 16,
   "id": "325d0542",
   "metadata": {},
   "outputs": [],
   "source": [
    "# to cal using Quantile Ranges"
   ]
  },
  {
   "cell_type": "code",
   "execution_count": 17,
   "id": "0607014f",
   "metadata": {},
   "outputs": [],
   "source": [
    "Q1 = np.quantile(percent_col,0.25)\n",
    "Q3 = np.quantile(percent_col,0.75)"
   ]
  },
  {
   "cell_type": "code",
   "execution_count": 18,
   "id": "1dd61ea3",
   "metadata": {},
   "outputs": [
    {
     "data": {
      "text/plain": [
       "0.2671"
      ]
     },
     "execution_count": 18,
     "metadata": {},
     "output_type": "execute_result"
    }
   ],
   "source": [
    "med = np.median(percent_col)\n",
    "med"
   ]
  },
  {
   "cell_type": "code",
   "execution_count": 19,
   "id": "283dd3a6",
   "metadata": {},
   "outputs": [],
   "source": [
    "IQR = Q3 - Q1"
   ]
  },
  {
   "cell_type": "code",
   "execution_count": 20,
   "id": "3d8ac19d",
   "metadata": {},
   "outputs": [],
   "source": [
    "upper_bound = Q3+(1.5*IQR)\n",
    "lower_bound = Q1-(1.5*IQR)"
   ]
  },
  {
   "cell_type": "code",
   "execution_count": 21,
   "id": "dfcf3dec",
   "metadata": {},
   "outputs": [
    {
     "name": "stdout",
     "output_type": "stream",
     "text": [
      "First Quantile= 0.25470000000000004 \n",
      " Second Quantile= 0.2671 \n",
      " Third Quantile= 0.33975 \n",
      " Inter-Quartile Range= 0.08504999999999996 \n",
      " Upper Whisker= 0.46732499999999993 \n",
      " Lower Whisker= 0.1271250000000001\n"
     ]
    }
   ],
   "source": [
    "print('First Quantile=', Q1,'\\n','Second Quantile=', med ,'\\n','Third Quantile=', Q3,'\\n',\n",
    "      'Inter-Quartile Range=', IQR, '\\n','Upper Whisker=', upper_bound, '\\n','Lower Whisker=', lower_bound)"
   ]
  },
  {
   "cell_type": "code",
   "execution_count": 22,
   "id": "15a84f90",
   "metadata": {},
   "outputs": [
    {
     "name": "stdout",
     "output_type": "stream",
     "text": [
      "The outlier in the boxplot: 10    91.36\n",
      "Name: Measure X, dtype: float64\n"
     ]
    }
   ],
   "source": [
    "Outliers = percent_col[(percent_col <= lower_bound) | (percent_col >= upper_bound)]*100\n",
    "print('The outlier in the boxplot:',Outliers)"
   ]
  },
  {
   "cell_type": "markdown",
   "id": "fe6a98f5",
   "metadata": {},
   "source": [
    "### Question 2 "
   ]
  },
  {
   "attachments": {
    "image.png": {
     "image/png": "[encoded data removed]"
    }
   },
   "cell_type": "markdown",
   "id": "81734697",
   "metadata": {},
   "source": [
    "![image.png](attachment:image.png)\n",
    "Answer the following three questions based on the box-plot above"
   ]
  },
  {
   "cell_type": "markdown",
   "id": "75b12bfa",
   "metadata": {},
   "source": [
    "(i) What is inter-quartile range of this dataset? (please approximate the numbers) In one line, explain what this value implies."
   ]
  },
  {
   "cell_type": "markdown",
   "id": "f867e169",
   "metadata": {},
   "source": [
    "Q1=5, Q3=12.5(approx), so IQR=Q3-Q1=7.5(approx). This value gives the range or spread of the middle 50% of the observationsi.e.the middle 50% of observations is spread out over an interval of 7.5."
   ]
  },
  {
   "cell_type": "markdown",
   "id": "29810e9c",
   "metadata": {},
   "source": [
    "(ii) What can we say about the skewness of this dataset?"
   ]
  },
  {
   "cell_type": "markdown",
   "id": "5a1698d6",
   "metadata": {},
   "source": [
    "The dataset is positively skewed or right skewed.Mean is less than median, so the box plot is Right skewed"
   ]
  },
  {
   "cell_type": "markdown",
   "id": "872c46a6",
   "metadata": {},
   "source": [
    "iii)\tIf it was found that the data point with the value 25 is actually 2.5, how would the new box-plot be affected?"
   ]
  },
  {
   "cell_type": "markdown",
   "id": "2a66e9c8",
   "metadata": {},
   "source": [
    "if the data point 25 was actually 2.5, it would not affect the new boxplot as median is plotted in the boxplot not mean.The only difference will be there will be no outliers in the new boxplot."
   ]
  },
  {
   "cell_type": "markdown",
   "id": "9630c2fd",
   "metadata": {},
   "source": [
    "### Question 3"
   ]
  },
  {
   "attachments": {
    "image.png": {
     "image/png": "[encoded data removed]"
    }
   },
   "cell_type": "markdown",
   "id": "e984abd7",
   "metadata": {},
   "source": [
    "3.\t\n",
    " ![image.png](attachment:image.png)\n",
    "\n",
    "Answer the following three questions based on the histogram above."
   ]
  },
  {
   "cell_type": "markdown",
   "id": "e39778cd",
   "metadata": {},
   "source": [
    "(i) Where would the mode of this dataset lie?"
   ]
  },
  {
   "cell_type": "markdown",
   "id": "9a330c33",
   "metadata": {},
   "source": [
    "Ans:The mode of this dataset will lie approx between 4.8-8.0"
   ]
  },
  {
   "cell_type": "markdown",
   "id": "722290ed",
   "metadata": {},
   "source": [
    "(ii) Comment on the skewness of the dataset."
   ]
  },
  {
   "cell_type": "markdown",
   "id": "3c7d5c61",
   "metadata": {},
   "source": [
    "Ans: Right skewed, as long tail towards Right. "
   ]
  },
  {
   "cell_type": "markdown",
   "id": "90b86bc6",
   "metadata": {},
   "source": [
    "(iii)Suppose that the above histogram and the box-plot in question 2 are plotted for the same dataset. Explain how these graphs complement each other in providing information about any dataset."
   ]
  },
  {
   "cell_type": "markdown",
   "id": "e12496b0",
   "metadata": {},
   "source": [
    "Ans: Both Plots give idea about skewness of the data, But\n",
    "\n",
    "Box plot provides outlier values, which fails to provide by histogram.\n",
    "Similarly histogram provides the frequency of datapoints, which fails to provide by box plot."
   ]
  },
  {
   "cell_type": "markdown",
   "id": "b626435e",
   "metadata": {},
   "source": [
    "Both boxplot and histogram gives an idea of the skewness and presence of outliers in a dataset"
   ]
  },
  {
   "cell_type": "markdown",
   "id": "e65088f8",
   "metadata": {},
   "source": [
    "### Question 4 "
   ]
  },
  {
   "cell_type": "markdown",
   "id": "a902c360",
   "metadata": {},
   "source": [
    "AT&T was running commercials in 1990 aimed at luring back customers who had switched to one of the other long-distance phone service providers. One such commercial shows a businessman trying to reach Phoenix and mistakenly getting Fiji, where a half-naked native on a beach responds incomprehensibly in Polynesian. When asked about this advertisement, AT&T admitted that the portrayed incident did not actually take place but added that this was an enactment of something that “could happen.” Suppose that one in 200 long-distance telephone calls is misdirected. What is the probability that at least one in five attempted telephone calls reaches the wrong number? (Assume independence of attempts.)"
   ]
  },
  {
   "cell_type": "code",
   "execution_count": 23,
   "id": "15823a2b",
   "metadata": {},
   "outputs": [
    {
     "data": {
      "text/plain": [
       "'\\nAns: E: The call is misdirected\\nthen probability of the event E is\\nP(E)= 1/200 \\nTherefore,\\nProbability that at least one in 5 attempted call reaches the wrong number\\n= 1 - Probability that no attempted call reaches the wrong number\\n= 1 – P(E bar)\\n= 1 – (199/200)* (199/200)* (199/200)* (199/200)* (199/200)\\n= 1 - (199/200)^5\\n= 0.025\\n'"
      ]
     },
     "execution_count": 23,
     "metadata": {},
     "output_type": "execute_result"
    }
   ],
   "source": [
    "'''\n",
    "Ans: E: The call is misdirected\n",
    "then probability of the event E is\n",
    "P(E)= 1/200 \n",
    "Therefore,\n",
    "Probability that at least one in 5 attempted call reaches the wrong number\n",
    "= 1 - Probability that no attempted call reaches the wrong number\n",
    "= 1 – P(E bar)\n",
    "= 1 – (199/200)* (199/200)* (199/200)* (199/200)* (199/200)\n",
    "= 1 - (199/200)^5\n",
    "= 0.025\n",
    "'''"
   ]
  },
  {
   "cell_type": "markdown",
   "id": "36c92ce3",
   "metadata": {},
   "source": [
    "Probability that at least one in 5 attempted call reaches the wrong number = 0.025"
   ]
  },
  {
   "cell_type": "markdown",
   "id": "15e057f9",
   "metadata": {},
   "source": [
    "### Question 5 "
   ]
  },
  {
   "cell_type": "markdown",
   "id": "af1c77c6",
   "metadata": {},
   "source": [
    "Returns on a certain business venture, to the nearest $1,000, are known to follow the following probability distribution.\n",
    "\n",
    "  \n",
    "x|P(x)\n",
    "----|----\n",
    "-2,000|0.1\n",
    "-1,000|0.1\n",
    "0|0.2\n",
    "1000|0.2\n",
    "2000|0.3\n",
    "3000|0.1\n",
    " \n",
    "    i.What is the most likely monetary outcome of the business venture?\n",
    "    ii.Is the venture likely to be successful? Explain\n",
    "    iii.What is the long-term average earning of business ventures of this kind? Explain\n",
    "    iv.What is the good measure of the risk involved in a venture of this kind? Compute this measure\n",
    "\n"
   ]
  },
  {
   "cell_type": "markdown",
   "id": "caadaf0a",
   "metadata": {},
   "source": [
    "    i.most likely monetary outcome= Value of X corresponding to highest P=0.3= 2000\n",
    "    \n",
    "    ii.The success of venture can be found out by adding all positive probabilities =0.2+0.3+0.1=  0.6\n",
    "    So there is a 60% chance of success.\n",
    "    \n",
    "    iii. Long term average earning= sum of expected values= 800$\n",
    "    \n",
    "    iv. A good measure of risk involved is standard deviation.\n",
    "    variance = 2160000  ( Quite High)\n",
    "    Standard deviation= 1469.69$\n",
    "    As Variability is Quite high  hence Risk is high\n",
    "\n"
   ]
  },
  {
   "cell_type": "markdown",
   "id": "ac8b13b0",
   "metadata": {},
   "source": [
    "# Set 2"
   ]
  },
  {
   "cell_type": "markdown",
   "id": "e7eed2ba",
   "metadata": {},
   "source": [
    "### Question-1"
   ]
  },
  {
   "cell_type": "markdown",
   "id": "67b0298d",
   "metadata": {},
   "source": [
    "The time required for servicing transmissions is normally distributed with u = 45 minutes and s= 8 minutes. The service manager plans to have work begin on the transmission of a customer’s car 10 minutes after the car is dropped off and the customer is told that the car will be ready within 1 hour from drop-off. What is the probability that the service manager cannot meet his commitment?"
   ]
  },
  {
   "cell_type": "markdown",
   "id": "25f7deb2",
   "metadata": {},
   "source": [
    "for normal distribution :-\n",
    "z = (X-μ)/б\n",
    "\n",
    "= (50-45)/8        \n",
    "\n",
    "= 0.625"
   ]
  },
  {
   "cell_type": "code",
   "execution_count": 24,
   "id": "679631f5",
   "metadata": {},
   "outputs": [],
   "source": [
    "from scipy import stats\n"
   ]
  },
  {
   "cell_type": "code",
   "execution_count": 25,
   "id": "e45a66d6",
   "metadata": {},
   "outputs": [
    {
     "data": {
      "text/plain": [
       "0.7340144709512995"
      ]
     },
     "execution_count": 25,
     "metadata": {},
     "output_type": "execute_result"
    }
   ],
   "source": [
    "# probability car will be ready within 1 hr\n",
    "stats.norm.cdf( 50,loc = 45,scale = 8)"
   ]
  },
  {
   "cell_type": "code",
   "execution_count": 26,
   "id": "43b5d2d6",
   "metadata": {},
   "outputs": [
    {
     "data": {
      "text/plain": [
       "0.26598552904870054"
      ]
     },
     "execution_count": 26,
     "metadata": {},
     "output_type": "execute_result"
    }
   ],
   "source": [
    "# probability car will not be ready within 1 hr\n",
    "1-stats.norm.cdf( 50,loc = 45,scale = 8)"
   ]
  },
  {
   "cell_type": "markdown",
   "id": "cf466d52",
   "metadata": {},
   "source": [
    "So correct answer is 0.266"
   ]
  },
  {
   "cell_type": "markdown",
   "id": "52604cab",
   "metadata": {},
   "source": [
    "### Question-2"
   ]
  },
  {
   "cell_type": "markdown",
   "id": "dbbf036e",
   "metadata": {},
   "source": [
    "The current age (in years) of 400 clerical employees at an insurance claims processing center is normally distributed with mean u= 38 and Standard deviation s =6. For each statement below, please specify True/False. If false, briefly explain why."
   ]
  },
  {
   "cell_type": "markdown",
   "id": "b1fa65da",
   "metadata": {},
   "source": [
    "A. More employees at the processing center are older than 44 than between 38 and 44."
   ]
  },
  {
   "cell_type": "code",
   "execution_count": 27,
   "id": "a293bf5f",
   "metadata": {},
   "outputs": [
    {
     "data": {
      "text/plain": [
       "0.15865525393145707"
      ]
     },
     "execution_count": 27,
     "metadata": {},
     "output_type": "execute_result"
    }
   ],
   "source": [
    "# probability employees are older than 44\n",
    "1-stats.norm.cdf( 44,loc = 38,scale = 6)"
   ]
  },
  {
   "cell_type": "code",
   "execution_count": 28,
   "id": "9a0415fd",
   "metadata": {},
   "outputs": [
    {
     "data": {
      "text/plain": [
       "0.3413447460685429"
      ]
     },
     "execution_count": 28,
     "metadata": {},
     "output_type": "execute_result"
    }
   ],
   "source": [
    "# probability employees are between 38 and 44\n",
    "prob=stats.norm.cdf( 44,loc = 38,scale = 6)-stats.norm.cdf( 38,loc = 38,scale = 6)\n",
    "prob"
   ]
  },
  {
   "cell_type": "markdown",
   "id": "4f102786",
   "metadata": {},
   "source": [
    "15.9% of employees are above 44 while 34.13% of employees are between 38 to 44.So statement A is False."
   ]
  },
  {
   "cell_type": "markdown",
   "id": "780fc85c",
   "metadata": {},
   "source": [
    "B. A training program for employees under the age of 30 at the center would be expected to attract about 36 employees.\n"
   ]
  },
  {
   "cell_type": "code",
   "execution_count": 29,
   "id": "2eeba9a4",
   "metadata": {},
   "outputs": [
    {
     "data": {
      "text/plain": [
       "0.09121121972586788"
      ]
     },
     "execution_count": 29,
     "metadata": {},
     "output_type": "execute_result"
    }
   ],
   "source": [
    "# probability that training employees are under 30\n",
    "stats.norm.cdf( 30,loc = 38,scale = 6)"
   ]
  },
  {
   "cell_type": "markdown",
   "id": "a880d09c",
   "metadata": {},
   "source": [
    "So 9.12 percent of employees are under 30.Total employees= 400\n",
    "\n",
    "So number of employees under 30= 36.48 = 36(round off)\n",
    "\n",
    "So statement B is TRUE"
   ]
  },
  {
   "cell_type": "markdown",
   "id": "7a8c5bfb",
   "metadata": {},
   "source": [
    "### Question-3"
   ]
  },
  {
   "cell_type": "markdown",
   "id": "0506c2b5",
   "metadata": {},
   "source": [
    "If X1 ~ N(μ, σ^2) and X2 ~ N(μ, σ^2) are iid normal random variables, then what is the difference between 2 X1 and X1 + X2? Discuss both their distributions and parameters.       \n"
   ]
  },
  {
   "cell_type": "markdown",
   "id": "9850fc25",
   "metadata": {},
   "source": [
    "X1 -- N(μ, σ2) \n",
    "\n",
    "X2 -- N(μ, σ2) \n",
    "As X1 and X2 are independent,identically distributed(iid) normal random variables,\n",
    "by Central Limit Theorem,\n",
    "\n",
    "X1 + X2 -- N(2μ,2σ^2)\n",
    "\n",
    "And, 2X1 -- N(2μ,4σ^2)\n",
    "\n",
    "So, 2X1-(X1+X2) --> N(2μ-2μ, 2σ^2+4σ^2 ) --> (0,6σ^2)\n",
    "\n",
    "2X1 distribution has a mean of 2μ and variance=4σ^2 .\n",
    "\n",
    "X1 + X2 distribution has mean= 2μ and variance= 2σ^2 .\n",
    "\n",
    "And their difference has mean =0 and variance= 6σ^2.\n",
    "                "
   ]
  },
  {
   "cell_type": "markdown",
   "id": "d9538285",
   "metadata": {},
   "source": [
    "### Question-4"
   ]
  },
  {
   "cell_type": "markdown",
   "id": "7e2e91c6",
   "metadata": {},
   "source": [
    "Let X ~ N(100, 20^2). Find two values, a and b, symmetric about the mean, such that the probability of the random variable taking a value between them is 0.99. \n"
   ]
  },
  {
   "cell_type": "code",
   "execution_count": 30,
   "id": "ab33fb55",
   "metadata": {},
   "outputs": [
    {
     "name": "stdout",
     "output_type": "stream",
     "text": [
      "-2.576\n"
     ]
    }
   ],
   "source": [
    "'''\n",
    "The Probability of getting value between a and b should be 0.99.\n",
    "So probability of not getting between a and b= 1-0.99= 0.01\n",
    "Area on the left of a= Area on the right of b= 0.005\n",
    "'''\n",
    "import numpy as np\n",
    "z_score_a=stats.norm.ppf(0.005,loc=0,scale=1)\n",
    "z_score_a=np.round(z_score_a,3)\n",
    "print(z_score_a)"
   ]
  },
  {
   "cell_type": "code",
   "execution_count": 31,
   "id": "f81aadea",
   "metadata": {},
   "outputs": [
    {
     "name": "stdout",
     "output_type": "stream",
     "text": [
      "a= 48.48 \n",
      "b= 151.52\n"
     ]
    }
   ],
   "source": [
    "# So z-score for b will be +2.576\n",
    "z_score_b= 2.576\n",
    "u=100\n",
    "s=20\n",
    "a=z_score_a*s+u\n",
    "b=z_score_b*s+u\n",
    "print('a=',a,'\\nb=',b)"
   ]
  },
  {
   "cell_type": "markdown",
   "id": "37dbfbfb",
   "metadata": {},
   "source": [
    "option D is Correct."
   ]
  },
  {
   "cell_type": "markdown",
   "id": "0261d06d",
   "metadata": {},
   "source": [
    "### Question- 5"
   ]
  },
  {
   "cell_type": "markdown",
   "id": "5cf6a916",
   "metadata": {},
   "source": [
    "Consider a company that has two different divisions. The annual profits from the two divisions are independent and have distributions Profit1 ~ N(5, 3^2) and Profit2 ~ N(7, 4^2) respectively. Both the profits are in million dollars. Answer the following questions about the total profit of the company in Rupees. Assume that $1 = Rs. 45."
   ]
  },
  {
   "cell_type": "markdown",
   "id": "8c01edbc",
   "metadata": {},
   "source": [
    "A. Specify a Rupee range (centered on the mean) such that it contains 95% probability for the annual profit of the company."
   ]
  },
  {
   "cell_type": "code",
   "execution_count": 32,
   "id": "47c21a31",
   "metadata": {},
   "outputs": [
    {
     "name": "stdout",
     "output_type": "stream",
     "text": [
      "540 225\n"
     ]
    }
   ],
   "source": [
    "'''\n",
    "Profit1 ~ N(5, 3^2)\n",
    "Profit2 ~ N(7, 4^2)\n",
    "\n",
    "So Overall Profit ~ N(12,25)\n",
    "'''\n",
    "mean= 12\n",
    "sd=5\n",
    "mean_rs= 12*45\n",
    "sd_rs= 5*45\n",
    "\n",
    "print(mean_rs,sd_rs)"
   ]
  },
  {
   "cell_type": "markdown",
   "id": "635bbda7",
   "metadata": {},
   "source": [
    "So mean profit from two divisions is 540 million rupees.\n",
    "Standard deviation of mean profit is 225 million rupees"
   ]
  },
  {
   "cell_type": "code",
   "execution_count": 33,
   "id": "14b89b74",
   "metadata": {},
   "outputs": [
    {
     "data": {
      "text/plain": [
       "(99.00810347848784, 980.9918965215122)"
      ]
     },
     "execution_count": 33,
     "metadata": {},
     "output_type": "execute_result"
    }
   ],
   "source": [
    "#  rupee range such that it contains 95% probability for annual profit\n",
    "stats.norm.interval(0.95,540,225)"
   ]
  },
  {
   "cell_type": "markdown",
   "id": "b9f6bb76",
   "metadata": {},
   "source": [
    "So rupee range is 99 million to 981 million."
   ]
  },
  {
   "cell_type": "markdown",
   "id": "63ebe4d4",
   "metadata": {},
   "source": [
    "B.Specify the 5th percentile of profit (in Rupees) for the company"
   ]
  },
  {
   "cell_type": "code",
   "execution_count": 34,
   "id": "0bf94d94",
   "metadata": {},
   "outputs": [
    {
     "data": {
      "text/plain": [
       "-1.6448536269514729"
      ]
     },
     "execution_count": 34,
     "metadata": {},
     "output_type": "execute_result"
    }
   ],
   "source": [
    "'''\n",
    "5th percentile= area of 0.05 in normal distribution curve\n",
    "calculating z score for corresponding probability\n",
    "'''\n",
    "\n",
    "stats.norm.ppf(0.05,loc=0,scale=1)"
   ]
  },
  {
   "cell_type": "code",
   "execution_count": 35,
   "id": "83fb833a",
   "metadata": {},
   "outputs": [
    {
     "name": "stdout",
     "output_type": "stream",
     "text": [
      "Fifth percentile of profit in million rupees: 168.75\n"
     ]
    }
   ],
   "source": [
    "z= -1.65\n",
    "fifth_percentile=z*sd_rs+mean_rs\n",
    "print(\"Fifth percentile of profit in million rupees:\",fifth_percentile)"
   ]
  },
  {
   "cell_type": "markdown",
   "id": "52868c08",
   "metadata": {},
   "source": [
    "C.Which of the two divisions has a larger probability of making a loss in a given year?\n"
   ]
  },
  {
   "cell_type": "code",
   "execution_count": 36,
   "id": "efef1e0b",
   "metadata": {},
   "outputs": [
    {
     "data": {
      "text/plain": [
       "0.048"
      ]
     },
     "execution_count": 36,
     "metadata": {},
     "output_type": "execute_result"
    }
   ],
   "source": [
    "# Probability of Division 1 making loss \n",
    "np.round(stats.norm.cdf(0,5,3),3)"
   ]
  },
  {
   "cell_type": "code",
   "execution_count": 37,
   "id": "07df92ec",
   "metadata": {},
   "outputs": [
    {
     "data": {
      "text/plain": [
       "0.04"
      ]
     },
     "execution_count": 37,
     "metadata": {},
     "output_type": "execute_result"
    }
   ],
   "source": [
    "# Probability of Division 2 making loss \n",
    "np.round(stats.norm.cdf(0,7,4),3)"
   ]
  },
  {
   "cell_type": "markdown",
   "id": "13aeb81c",
   "metadata": {},
   "source": [
    "Division 1 has more probability of loss"
   ]
  },
  {
   "cell_type": "markdown",
   "id": "c3d2f911",
   "metadata": {},
   "source": [
    "# SET- 3"
   ]
  },
  {
   "cell_type": "markdown",
   "id": "5b1edf48",
   "metadata": {},
   "source": [
    "### 1. For each of the following statements, indicate whether it is True/False. If false, explain why.\n",
    "\n",
    "    I. The sample size of the survey should at least be a fixed percentage of the population size in order to produce representative results.\n",
    "    FALSE- Though a sample size is considered large but it will not be adequate for large population\n",
    " \n",
    "\n",
    "    II. The sampling frame is a list of every item that appears in a survey sample, including those that did not respond to questions.\n",
    "    FALSE- Only those who responded can be part of sampling frame.\n",
    "\n",
    "    III. Larger surveys convey a more accurate impression of the population than smaller surveys.\n",
    "    TRUE- Larger surveys means less margin of error and more accurate representation of population."
   ]
  },
  {
   "cell_type": "markdown",
   "id": "91d4901a",
   "metadata": {},
   "source": [
    "### 2. PC Magazine asked all of its readers to participate in a survey of their satisfaction with different brands of electronics. In the 2004 survey, which was included in an issue of the magazine that year, more than 9000 readers rated the products on a scale from 1 to 10. The magazine reported that the average rating assigned by 225 readers to a Kodak compact digital camera was 7.5. For this product, identify the following:\n"
   ]
  },
  {
   "cell_type": "markdown",
   "id": "42566b8d",
   "metadata": {},
   "source": [
    "    A. The population- All the readers\n",
    "    B. The parameter of interest- average rating of Kodak compact digital camera\n",
    "    C. The sampling frame-9000\n",
    "    D. The sample size-225\n",
    "    E. The sampling design- random sampling\n",
    "    F. Any potential sources of bias or other problems with the survey or sample- The sample size is very small so will lead to biased rating."
   ]
  },
  {
   "cell_type": "markdown",
   "id": "942e43e7",
   "metadata": {},
   "source": [
    "### 3. For each of the following statements, indicate whether it is True/False. If false, explain why.\n",
    "\n",
    "    I. If the 95% confidence interval for the average purchase of customers at a department store is 50$ to 110$,then 100$ is a plausible value for the population mean at this level of confidence.\n",
    "TRUE\n",
    "\n",
    "    II. If the 95% confidence interval for the number of moviegoers who purchase concessions is 30% to 45%, this means that fewer than half of all moviegoers purchase concessions.\n",
    "    FALSE- Fewer than half of 95% moviegoers purchase concessions.\n",
    "\n",
    "    III. The 95% Confidence-Interval for μ only applies if the sample data are nearly normally distributed.\n",
    "    TRUE"
   ]
  },
  {
   "cell_type": "markdown",
   "id": "2c3eb115",
   "metadata": {},
   "source": [
    "### 4. What are the chances that x bar greater than u?\n",
    "Mean of Sample means= Population mean.\n",
    "\n",
    "So chance= 1(answer D)\n"
   ]
  },
  {
   "cell_type": "markdown",
   "id": "8ceacce3",
   "metadata": {},
   "source": [
    "### 5. In January 2005, a company that monitors Internet traffic (WebSideStory) reported that its sampling revealed that the Mozilla Firefox browser launched in 2004 had grabbed a 4.6% share of the market."
   ]
  },
  {
   "cell_type": "markdown",
   "id": "86cf13d3",
   "metadata": {},
   "source": [
    "A.If the sample were based on 2,000 users, could Microsoft conclude that Mozilla has a less than 5% share of the market?\n",
    "\n",
    "Null Hypothesis- Mozilla shares more than 5%\n",
    "Alternate Hypothesis- Mozilla shares less than 5%"
   ]
  },
  {
   "cell_type": "code",
   "execution_count": 38,
   "id": "313699f4",
   "metadata": {},
   "outputs": [
    {
     "data": {
      "text/plain": [
       "0.20588503245107104"
      ]
     },
     "execution_count": 38,
     "metadata": {},
     "output_type": "execute_result"
    }
   ],
   "source": [
    "import numpy as np\n",
    "from scipy import stats\n",
    "z_scores=(0.046-0.05)/(np.sqrt((0.05*(1-0.05))/2000))\n",
    "p_value=1-stats.norm.cdf(abs(z_scores))\n",
    "p_value"
   ]
  },
  {
   "cell_type": "markdown",
   "id": "ee295802",
   "metadata": {},
   "source": [
    "As p-value > 0.05 we will accept Null Hypothesis.So market shares of Mozilla is more than 5%."
   ]
  },
  {
   "cell_type": "markdown",
   "id": "25c59a97",
   "metadata": {},
   "source": [
    "B.WebSideStory claims that its sample includes all the daily Internet users. If that’s the case, then can Microsoft conclude that Mozilla has a less than 5% share of the market?\n",
    "\n",
    "According to WebSideStory,its sample includes all the daily Internet users. So 4.6% is the population percentage. Hence Microsoft's claim that Mozilla has a less than 5% share of the whole market is True. Hence, we can conclude that Mozilla has a less than 5% share of the market."
   ]
  },
  {
   "cell_type": "markdown",
   "id": "48ff1c9f",
   "metadata": {},
   "source": [
    "### 6. A book publisher monitors the size of shipments of its textbooks to university bookstores. For a sample of texts used at various schools, the 95% confidence interval for the size of the shipment was 250 ± 45 books. Which, if any, of the following interpretations of this interval are correct?"
   ]
  },
  {
   "cell_type": "markdown",
   "id": "cd492fcc",
   "metadata": {},
   "source": [
    "    A. All shipments are between 205 and 295 books.\n",
    "    FALSE\n",
    "\n",
    "    B. 95% of shipments are between 205 and 295 books.\n",
    "    TRUE\n",
    "\n",
    "    C. The procedure that produced this interval generates ranges that hold the population mean for 95% of samples.\n",
    "    TRUE\n",
    "\n",
    "    D. If we get another sample, then we can be 95% sure that the mean of this second sample is between 205 and 295.\n",
    "    TRUE\n",
    "\n",
    "    E. We can be 95% confident that the range 160 to 340 holds the population mean.\n",
    "    FALSE"
   ]
  },
  {
   "cell_type": "markdown",
   "id": "6dfda263",
   "metadata": {},
   "source": [
    "### 7. Which is shorter: a 95% z-interval or a 95% t-interval for μ if we know that σ =s?\n",
    "\n",
    "The z-interval is shorter"
   ]
  },
  {
   "cell_type": "markdown",
   "id": "db698948",
   "metadata": {},
   "source": [
    "### 8. How many randomly selected employers (minimum number) must we contact in order to guarantee a margin of error of no more than 4% (at 95% confidence)?"
   ]
  },
  {
   "cell_type": "markdown",
   "id": "c3ea252d",
   "metadata": {},
   "source": [
    "Here, n=number of employers\n",
    "\n",
    "P=0.5,1-p =0.5 ,Margin of Error(ME)=0.04\n",
    "\n",
    "For 95% CI, z= 1.96\n",
    "\n",
    "ME = z* [p(1-p)/n]^0.5\n",
    "\n",
    "So n= 600.25 = 600\n",
    "So answer is A"
   ]
  },
  {
   "cell_type": "markdown",
   "id": "2aaec0ca",
   "metadata": {},
   "source": [
    "### 9. Suppose we want the above margin of error to be based on a 98% confidence level. What sample size (minimum) must we now use?\n",
    "\n",
    "For 98% CI, z= 2.326\n",
    "P=0.5,1-p =0.5 ,Margin of Error(ME)=0.04\n",
    "\n",
    "n= 845.35 \n",
    "So correct answer is C.\n"
   ]
  },
  {
   "cell_type": "markdown",
   "id": "3891446a",
   "metadata": {},
   "source": [
    "# SET- 4"
   ]
  },
  {
   "cell_type": "markdown",
   "id": "c29f7e68",
   "metadata": {},
   "source": [
    "### 1. Examine the following normal Quantile plots carefully. Which of these plots indicates that the data …\n",
    "    I. Are nearly normal?\n",
    "    Plot-C\n",
    "    \n",
    "    II. Have a bimodal distribution? (One way to recognize a bimodal shape is a “gap” in the spacing of adjacent data values.)\n",
    "    Plot-D\n",
    "    \n",
    "    III. Are skewed (i.e. not symmetric) ?\n",
    "    Plots-A\n",
    "    \n",
    "    IV. Have outliers on both sides of the center?\n",
    "    Plot-B"
   ]
  },
  {
   "attachments": {
    "image.png": {
     "image/png": "[encoded data removed]"
    }
   },
   "cell_type": "markdown",
   "id": "4f892c4a",
   "metadata": {},
   "source": [
    "![image.png](attachment:image.png)\n"
   ]
  },
  {
   "cell_type": "markdown",
   "id": "44cb737a",
   "metadata": {},
   "source": [
    "### 2. For each of the following statements, indicate whether it is True/False. If false, explain why.The manager of a warehouse monitors the volume of shipments made by the delivery team. The automated tracking system tracks every package as it moves through the facility. A sample of 25 packages is selected and weighed every day. Based on current contracts with customers, the weights should have μ = 22 lbs. and σ = 5 lbs.\n",
    "\n",
    "A. Before using a normal model for the sampling distribution of the average package weights, the manager must confirm that weights of individual packages are normally distributed.\n",
    "\n",
    "True\n",
    "\n",
    "B. The standard error of the daily average SE() = 1.\n",
    "\n",
    "SE= population S.D/sqrt(sample size)= 5/sqrt(25)= 1\n",
    "Hence it is TRUE"
   ]
  },
  {
   "cell_type": "markdown",
   "id": "5619e08f",
   "metadata": {},
   "source": [
    "### 3. Auditors at a small community bank randomly sample 100 withdrawal transactions made during the week at an ATM machine located near the bank’s main branch. Over the past 2 years, the average withdrawal amount has been 50 dollar with a standard deviation of 40 dollar. Since audit investigations are typically expensive, the auditors decide to not initiate further investigations if the mean transaction amount of the sample is between 45 dollar and 55 dollar. What is the probability that in any given week, there will be an investigation?"
   ]
  },
  {
   "cell_type": "code",
   "execution_count": 39,
   "id": "6ee70775",
   "metadata": {},
   "outputs": [
    {
     "name": "stdout",
     "output_type": "stream",
     "text": [
      "Z-score at X=45 is: -1.25\n",
      "Z-score at X=55 is: 1.25\n"
     ]
    }
   ],
   "source": [
    "import numpy as np\n",
    "\n",
    "mean_p=50\n",
    "sd_p= 40 \n",
    "n=100\n",
    "\n",
    "# Z-score at X=45 and X=55\n",
    "z45=(45-mean_p)/(sd_p/np.sqrt(n))\n",
    "z55=(55-mean_p)/(sd_p/np.sqrt(n))\n",
    "print('Z-score at X=45 is:',np.round(z45,3))\n",
    "print('Z-score at X=55 is:',np.round(z55,3))\n"
   ]
  },
  {
   "cell_type": "code",
   "execution_count": 40,
   "id": "145ae011",
   "metadata": {},
   "outputs": [
    {
     "name": "stdout",
     "output_type": "stream",
     "text": [
      "Probability of investigation: 0.211\n",
      "i.e,  21.0 %\n"
     ]
    }
   ],
   "source": [
    "# For No investigation P(45<X<55)\n",
    "prob1=stats.norm.cdf(1.25)-stats.norm.cdf(-1.25)\n",
    "\n",
    "# For investigation\n",
    "prob2=1-prob1\n",
    "\n",
    "print('Probability of investigation:',np.round(prob2,3))\n",
    "print('i.e, ',np.round(prob2,2)*100 ,'%')"
   ]
  },
  {
   "cell_type": "markdown",
   "id": "e4bc5d45",
   "metadata": {},
   "source": [
    "Option D is correct"
   ]
  },
  {
   "cell_type": "markdown",
   "id": "523e1098",
   "metadata": {},
   "source": [
    "### 4. The auditors from the above example would like to maintain the probability of investigation to 5%. Which of the following represents the minimum number transactions that they should sample if they do not want to change the thresholds of 45 and 55? Assume that the sample statistics remain unchanged.\n"
   ]
  },
  {
   "cell_type": "markdown",
   "id": "dc69b5a0",
   "metadata": {},
   "source": [
    "For 5% probability, n= [(1.96*40)/5]^2= 245.8 = 250\n",
    "\n",
    "So correct answer is D.\n"
   ]
  },
  {
   "cell_type": "markdown",
   "id": "59b84131",
   "metadata": {},
   "source": [
    "### 5.  An educational startup that helps MBA aspirants write their essays is targeting individuals who have taken GMAT in 2012 and have expressed interest in applying to FT top 20 b-schools. There are 40000 such individuals with an average GMAT score of 720 and a standard deviation of 120. The scores are distributed between 650 and 790 with a very long and thin tail towards the higher end resulting in substantial skewness. Which of the following is likely to be true for randomly chosen samples of aspirants?"
   ]
  },
  {
   "cell_type": "markdown",
   "id": "f3dcd778",
   "metadata": {},
   "source": [
    "    A. The standard deviation of the scores within any sample will be 120.\n",
    "    FALSE\n",
    "    \n",
    "    B. The standard deviation of the mean of across several samples will be 120.\n",
    "    FALSE- It will vary with sample size.\n",
    "    \n",
    "    C. The mean score in any sample will be 720.\n",
    "    TRUE\n",
    "    \n",
    "    D. The average of the mean across several samples will be 720.\n",
    "    TRUE\n",
    "    \n",
    "    E. The standard deviation of the mean across several samples will be 0.60\n",
    "    TRUE"
   ]
  },
  {
   "cell_type": "code",
   "execution_count": null,
   "id": "b222889e",
   "metadata": {},
   "outputs": [],
   "source": []
  },
  {
   "cell_type": "code",
   "execution_count": null,
   "id": "c5401e71",
   "metadata": {},
   "outputs": [],
   "source": []
  },
  {
   "cell_type": "code",
   "execution_count": null,
   "id": "84131be2",
   "metadata": {},
   "outputs": [],
   "source": []
  },
  {
   "cell_type": "code",
   "execution_count": null,
   "id": "9788152b",
   "metadata": {},
   "outputs": [],
   "source": []
  },
  {
   "cell_type": "code",
   "execution_count": null,
   "id": "d5a0ab16",
   "metadata": {},
   "outputs": [],
   "source": []
  }
 ],
 "metadata": {
  "kernelspec": {
   "display_name": "Python 3 (ipykernel)",
   "language": "python",
   "name": "python3"
  },
  "language_info": {
   "codemirror_mode": {
    "name": "ipython",
    "version": 3
   },
   "file_extension": ".py",
   "mimetype": "text/x-python",
   "name": "python",
   "nbconvert_exporter": "python",
   "pygments_lexer": "ipython3",
   "version": "3.9.12"
  }
 },
 "nbformat": 4,
 "nbformat_minor": 5
}
